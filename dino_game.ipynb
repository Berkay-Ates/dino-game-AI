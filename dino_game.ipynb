{
 "cells": [
  {
   "cell_type": "markdown",
   "metadata": {},
   "source": [
    "## 1. Install Dependencies"
   ]
  },
  {
   "cell_type": "markdown",
   "metadata": {},
   "source": []
  },
  {
   "cell_type": "code",
   "execution_count": null,
   "metadata": {},
   "outputs": [],
   "source": [
    "!pip3 install torch torchvision torchaudio --index-url https://download.pytorch.org/whl/cu118"
   ]
  },
  {
   "cell_type": "code",
   "execution_count": null,
   "metadata": {},
   "outputs": [],
   "source": [
    "!pip list"
   ]
  },
  {
   "cell_type": "code",
   "execution_count": null,
   "metadata": {},
   "outputs": [],
   "source": [
    "!pip install stable-baselines3[extra] protobuf==3.20.*"
   ]
  },
  {
   "cell_type": "code",
   "execution_count": null,
   "metadata": {},
   "outputs": [],
   "source": [
    "!pip install mss \n",
    "!pip install pydirectinput \n",
    "!pip install pytesseract"
   ]
  },
  {
   "cell_type": "code",
   "execution_count": null,
   "metadata": {},
   "outputs": [],
   "source": [
    "!pip install gym"
   ]
  },
  {
   "cell_type": "code",
   "execution_count": 2,
   "metadata": {},
   "outputs": [],
   "source": [
    "# Mss used for screen capture \n",
    "from mss import mss \n",
    "# Sending commands \n",
    "import pydirectinput\n",
    "#Open CV allow us to frame processing \n",
    "import cv2\n",
    "# Transformational frameworkd \n",
    "import numpy as np \n",
    "from numpy import shape\n",
    "# OCR for game over extraction \n",
    "import pytesseract\n",
    "# visualize the captured frames \n",
    "from matplotlib import pyplot as plt \n",
    "# Bring in time for pauses \n",
    "import time \n",
    "# Environment components \n",
    "from gym import Env\n",
    "\n",
    "from gymnasium.spaces import Box,Discrete\n",
    "\n",
    "\n",
    "import gymnasium"
   ]
  },
  {
   "cell_type": "markdown",
   "metadata": {},
   "source": [
    "## 2 Build the environment"
   ]
  },
  {
   "cell_type": "markdown",
   "metadata": {},
   "source": [
    "### 2.1 Create Environment"
   ]
  },
  {
   "cell_type": "code",
   "execution_count": 3,
   "metadata": {},
   "outputs": [],
   "source": [
    "\n",
    "\n",
    "\n",
    "class WebGame(gymnasium .Env):\n",
    "    \n",
    "    # Setup the environment action and observation shapes \n",
    "    def __init__(self):\n",
    "        # SubClass model \n",
    "        super().__init__()\n",
    "        \n",
    "        # Setup Spacess \n",
    "        self.observation_space = Box(low=0,high=255,shape=(1,150,600),dtype=np.uint8)\n",
    "        self.action_space = Discrete(3)\n",
    "        \n",
    "        # Define extraction parameters for the game \n",
    "        self.cap = mss()\n",
    "        self.game_location = {'top':200, 'left':500, 'width':600,'height':150}\n",
    "        self.done_location = {'top':160, 'left':825, 'width':260,'height':60}\n",
    "        \n",
    "    \n",
    "    # What is called to do something in the game \n",
    "    def step(self,action):\n",
    "        # Action key 0=Space , \n",
    "        action_map = {0:'space',1:'down',2:'no_op'}\n",
    "        if action != 2:\n",
    "            pydirectinput.press(action_map[action])\n",
    "\n",
    "        # Checking whether the game is done \n",
    "        res, done, done_cap = self.get_done()\n",
    "        \n",
    "        # Get the next observation\n",
    "        new_observation = self.get_observation()\n",
    "        \n",
    "        #* REWARD - we get a point for every point we live \n",
    "        reward = 1 \n",
    "        \n",
    "        # Info dictionary \n",
    "        info = {}\n",
    "        \n",
    "        return new_observation, reward, False, done , info\n",
    "    \n",
    "    # Visualize the game \n",
    "    def render(self):\n",
    "        cv2.imshow('Game',np.array(self.cap.grab(self.game_location))[:,:,:3])\n",
    "        if cv2.waitKey(1) & 0xff == ord(\"q\"):\n",
    "            self.close()\n",
    "    \n",
    "       \n",
    "    # This closes down the observation \n",
    "    def close(self):\n",
    "        cv2.destroyAllWindows()\n",
    "    \n",
    "    # Restart the game \n",
    "    def reset(self,seed=None):\n",
    "        time.sleep(1)\n",
    "        pydirectinput.click(x=950,y=240)\n",
    "        pydirectinput.press('space')\n",
    "        info = {}\n",
    "        return self.get_observation(), info\n",
    " \n",
    "    \n",
    "    \n",
    "    # Get the part of the observation of the game that we want to see \n",
    "    def get_observation(self):\n",
    "        # Get screen Capture of the game \n",
    "        raw = np.array(self.cap.grab(self.game_location))[:,:,:3].astype(np.uint8)\n",
    "        \n",
    "        # Gray Scale \n",
    "        gray = cv2.cvtColor(raw,cv2.COLOR_BGR2GRAY)\n",
    "        \n",
    "        # Resize \n",
    "        resized = cv2.resize(gray,(600,150))\n",
    "        \n",
    "        # add channels first \n",
    "        channel = np.reshape(resized,(1,150,600))\n",
    "        return channel\n",
    "    \n",
    "    # Get the done text using OCR \n",
    "    def get_done(self):\n",
    "        # Get done screen \n",
    "        done_cap = np.array(self.cap.grab(self.done_location))[:,:,:3].astype(np.uint8)\n",
    "        # valid done text \n",
    "        \n",
    "        \n",
    "        done_strings = ['GAME','GAHE']                                                                                       \n",
    "        \n",
    "        done = False\n",
    "        res  = pytesseract.image_to_string(done_cap)[:4]\n",
    "        if res in done_strings:\n",
    "            done = True \n",
    "                   \n",
    "        return res,done, done_cap\n",
    "     \n",
    " "
   ]
  },
  {
   "cell_type": "code",
   "execution_count": 157,
   "metadata": {},
   "outputs": [],
   "source": [
    "env = WebGame()"
   ]
  },
  {
   "cell_type": "code",
   "execution_count": null,
   "metadata": {},
   "outputs": [],
   "source": [
    "env.reset()"
   ]
  },
  {
   "cell_type": "code",
   "execution_count": 159,
   "metadata": {},
   "outputs": [],
   "source": [
    "env.render()"
   ]
  },
  {
   "cell_type": "code",
   "execution_count": 160,
   "metadata": {},
   "outputs": [],
   "source": [
    "env.close()"
   ]
  },
  {
   "cell_type": "code",
   "execution_count": null,
   "metadata": {},
   "outputs": [],
   "source": [
    "plt.imshow(cv2.cvtColor(env.get_observation()[0],cv2.COLOR_BGR2RGB))"
   ]
  },
  {
   "cell_type": "code",
   "execution_count": 162,
   "metadata": {},
   "outputs": [],
   "source": [
    "res, done , done_cap = env.get_done()"
   ]
  },
  {
   "cell_type": "code",
   "execution_count": null,
   "metadata": {},
   "outputs": [],
   "source": [
    "res"
   ]
  },
  {
   "cell_type": "code",
   "execution_count": 164,
   "metadata": {},
   "outputs": [
    {
     "data": {
      "text/plain": [
       "False"
      ]
     },
     "execution_count": 164,
     "metadata": {},
     "output_type": "execute_result"
    }
   ],
   "source": [
    "done"
   ]
  },
  {
   "cell_type": "code",
   "execution_count": null,
   "metadata": {},
   "outputs": [],
   "source": [
    "plt.imshow(done_cap)"
   ]
  },
  {
   "cell_type": "code",
   "execution_count": 166,
   "metadata": {},
   "outputs": [
    {
     "data": {
      "text/plain": [
       "(60, 260, 3)"
      ]
     },
     "execution_count": 166,
     "metadata": {},
     "output_type": "execute_result"
    }
   ],
   "source": [
    "env.get_done()[2].shape"
   ]
  },
  {
   "cell_type": "markdown",
   "metadata": {},
   "source": [
    "### 2.2 Test Environment"
   ]
  },
  {
   "cell_type": "code",
   "execution_count": 7,
   "metadata": {},
   "outputs": [],
   "source": [
    "env = WebGame()"
   ]
  },
  {
   "cell_type": "code",
   "execution_count": null,
   "metadata": {},
   "outputs": [],
   "source": [
    "obs = env.get_observation()[0]\n",
    "plt.imshow(cv2.cvtColor(obs,cv2.COLOR_BGR2RGBA))"
   ]
  },
  {
   "cell_type": "code",
   "execution_count": 9,
   "metadata": {},
   "outputs": [],
   "source": [
    "res, done, done_cap = env.get_done()"
   ]
  },
  {
   "cell_type": "code",
   "execution_count": 10,
   "metadata": {},
   "outputs": [
    {
     "data": {
      "text/plain": [
       "'GAME'"
      ]
     },
     "execution_count": 10,
     "metadata": {},
     "output_type": "execute_result"
    }
   ],
   "source": [
    "res"
   ]
  },
  {
   "cell_type": "code",
   "execution_count": null,
   "metadata": {},
   "outputs": [],
   "source": [
    "done"
   ]
  },
  {
   "cell_type": "code",
   "execution_count": null,
   "metadata": {},
   "outputs": [],
   "source": [
    "plt.imshow(done_cap)"
   ]
  },
  {
   "cell_type": "code",
   "execution_count": 15,
   "metadata": {},
   "outputs": [
    {
     "name": "stdout",
     "output_type": "stream",
     "text": [
      "Total Reward for episode 0 is 12\n"
     ]
    }
   ],
   "source": [
    "# play game for 10 episode\n",
    "for episode in range(1):\n",
    "    obs = env.reset()\n",
    "    done = False\n",
    "    total_rewared =0 \n",
    "    \n",
    "    while not done:\n",
    "        obs,reward,truncated, done, info = env.step(env.action_space.sample())\n",
    "        total_rewared += reward\n",
    "    \n",
    "    print(f'Total Reward for episode {episode} is {total_rewared}')"
   ]
  },
  {
   "cell_type": "markdown",
   "metadata": {},
   "source": [
    "## 3. Train The Model"
   ]
  },
  {
   "cell_type": "markdown",
   "metadata": {},
   "source": [
    "### 3.1 Create a Callback"
   ]
  },
  {
   "cell_type": "code",
   "execution_count": 16,
   "metadata": {},
   "outputs": [],
   "source": [
    "# import OS for file path management    \n",
    "import os \n",
    "\n",
    "# import Base Callback for saving models \n",
    "from stable_baselines3.common.callbacks import BaseCallback\n",
    "     \n",
    "# check environment \n",
    "from stable_baselines3.common import env_checker"
   ]
  },
  {
   "cell_type": "code",
   "execution_count": 17,
   "metadata": {},
   "outputs": [],
   "source": [
    "## Check the environment is okey\n",
    "env_checker.check_env(env=env)"
   ]
  },
  {
   "cell_type": "code",
   "execution_count": 18,
   "metadata": {},
   "outputs": [],
   "source": [
    "class TrainAndLoggingCallback(BaseCallback):\n",
    "    def __init__(self, check_freq, save_path, verbose=1):\n",
    "        super(TrainAndLoggingCallback, self).__init__(verbose)\n",
    "        self.check_freq = check_freq\n",
    "        self.save_path = save_path\n",
    "        \n",
    "    def __init_callback(self):\n",
    "        if self.save_path is not None:\n",
    "            os.makedirs(self.save_path, exist_ok=True)\n",
    "            \n",
    "    def _on_step(self):\n",
    "        if self.n_calls % self.check_freq == 0:\n",
    "            model_path = os.path.join(self.save_path, 'best_model_{}'.format(self.n_calls))\n",
    "            self.model.save(model_path)\n",
    "        return True"
   ]
  },
  {
   "cell_type": "code",
   "execution_count": 19,
   "metadata": {},
   "outputs": [],
   "source": [
    "CHECKPOINT_DIR = './train/'\n",
    "LOG_DIR = './logs'"
   ]
  },
  {
   "cell_type": "code",
   "execution_count": 20,
   "metadata": {},
   "outputs": [],
   "source": [
    "callback = TrainAndLoggingCallback(check_freq=50,save_path=CHECKPOINT_DIR)"
   ]
  },
  {
   "cell_type": "markdown",
   "metadata": {},
   "source": [
    "### 3.2 Build DQN and Train"
   ]
  },
  {
   "cell_type": "code",
   "execution_count": null,
   "metadata": {},
   "outputs": [],
   "source": [
    "# import the DQN algorithm\n",
    "from stable_baselines3 import DQN"
   ]
  },
  {
   "cell_type": "code",
   "execution_count": null,
   "metadata": {},
   "outputs": [],
   "source": [
    "# Create DQN Model\n",
    "model = DQN(policy='CnnPolicy',env=env,tensorboard_log=LOG_DIR,verbose=1,buffer_size=6000,learning_starts=0)"
   ]
  },
  {
   "cell_type": "code",
   "execution_count": null,
   "metadata": {},
   "outputs": [],
   "source": [
    "# Kick Off Training \n",
    "model.learn(total_timesteps=50,callback=callback)"
   ]
  },
  {
   "cell_type": "code",
   "execution_count": null,
   "metadata": {},
   "outputs": [],
   "source": [
    "obs"
   ]
  },
  {
   "cell_type": "code",
   "execution_count": 28,
   "metadata": {},
   "outputs": [],
   "source": [
    "action , _  = model.predict(obs)"
   ]
  },
  {
   "cell_type": "code",
   "execution_count": 36,
   "metadata": {},
   "outputs": [
    {
     "data": {
      "text/plain": [
       "0"
      ]
     },
     "execution_count": 36,
     "metadata": {},
     "output_type": "execute_result"
    }
   ],
   "source": [
    "int(action)"
   ]
  },
  {
   "cell_type": "markdown",
   "metadata": {},
   "source": [
    "## 4. Test out Model"
   ]
  },
  {
   "cell_type": "code",
   "execution_count": null,
   "metadata": {},
   "outputs": [],
   "source": [
    "model = DQN.load(os.path.join('best_model','best_model_88000'))"
   ]
  },
  {
   "cell_type": "markdown",
   "metadata": {},
   "source": [
    "### TEST THE MODEL"
   ]
  },
  {
   "cell_type": "code",
   "execution_count": null,
   "metadata": {},
   "outputs": [],
   "source": [
    "for episode in range(10):\n",
    "    obs = env.reset()\n",
    "    done = False\n",
    "    total_rewared =0 \n",
    "    \n",
    "    while not done:\n",
    "        action , _ = model.predict(obs)\n",
    "        obs,reward,truncated, done, info = env.step(int(action))\n",
    "        total_rewared += reward\n",
    "    \n",
    "    print(f'Total Reward for episode {episode} is {total_rewared}')"
   ]
  },
  {
   "cell_type": "code",
   "execution_count": null,
   "metadata": {},
   "outputs": [],
   "source": []
  }
 ],
 "metadata": {
  "kernelspec": {
   "display_name": "base",
   "language": "python",
   "name": "python3"
  },
  "language_info": {
   "codemirror_mode": {
    "name": "ipython",
    "version": 3
   },
   "file_extension": ".py",
   "mimetype": "text/x-python",
   "name": "python",
   "nbconvert_exporter": "python",
   "pygments_lexer": "ipython3",
   "version": "3.11.5"
  }
 },
 "nbformat": 4,
 "nbformat_minor": 2
}
